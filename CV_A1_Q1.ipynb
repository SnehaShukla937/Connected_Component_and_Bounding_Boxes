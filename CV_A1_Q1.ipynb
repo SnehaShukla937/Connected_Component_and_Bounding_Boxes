{
  "nbformat": 4,
  "nbformat_minor": 0,
  "metadata": {
    "colab": {
      "provenance": []
    },
    "kernelspec": {
      "name": "python3",
      "display_name": "Python 3"
    },
    "language_info": {
      "name": "python"
    }
  },
  "cells": [
    {
      "cell_type": "code",
      "metadata": {
        "id": "Q9RtyQ0e3PW0"
      },
      "source": [
        "# import all packages\n",
        "import cv2\n",
        "import numpy as np\n",
        "import pandas as pd\n",
        "import matplotlib.pyplot as plt\n",
        "from collections import OrderedDict\n",
        "import os\n",
        "import copy\n",
        "os.chdir('/content/drive/MyDrive/CV_Assignment/CV_Assignment-1/')"
      ],
      "execution_count": null,
      "outputs": []
    },
    {
      "cell_type": "code",
      "metadata": {
        "id": "ZLZCwwfY31G-"
      },
      "source": [
        "# load images and covert to binary\n",
        "img1 = cv2.imread('connected_component/image3.png')\n",
        "img1 = np.array(cv2.cvtColor(img1, cv2.COLOR_BGR2GRAY) /255,  dtype='int')\n",
        "\n",
        "img2 = cv2.imread('connected_component/image4.png')\n",
        "img2 = np.array(cv2.cvtColor(img2, cv2.COLOR_BGR2GRAY) /255, dtype='int')\n",
        "\n",
        "img3 = cv2.imread('connected_component/image7.png')\n",
        "img3 = np.array(cv2.cvtColor(img3, cv2.COLOR_BGR2GRAY) /255, dtype='int')\n",
        "\n",
        "img4 = cv2.imread('connected_component/image8.png')\n",
        "img4 = np.array(cv2.cvtColor(img4, cv2.COLOR_BGR2GRAY) /255, dtype='int')\n",
        "\n",
        "img5 = cv2.imread('connected_component/image9.png')\n",
        "img5 = np.array(cv2.cvtColor(img5, cv2.COLOR_BGR2GRAY) /255,  dtype='int')"
      ],
      "execution_count": null,
      "outputs": []
    },
    {
      "cell_type": "code",
      "metadata": {
        "colab": {
          "base_uri": "https://localhost:8080/",
          "height": 125
        },
        "id": "O-0KcxnN5FeP",
        "outputId": "2775718d-abab-47a5-88e3-afabe99455a7"
      },
      "source": [
        "# VISUALIZE IMAGES\n",
        "plt.subplot(1,5,1)\n",
        "plt.xticks([],[])\n",
        "plt.yticks([],[])\n",
        "plt.title(\"Image1\")\n",
        "plt.imshow(img1,cmap='gray')\n",
        "\n",
        "plt.subplot(1,5,2)\n",
        "plt.xticks([],[])\n",
        "plt.yticks([],[])\n",
        "plt.title(\"Image2\")\n",
        "plt.imshow(img2,cmap='gray')\n",
        "\n",
        "plt.subplot(1,5,3)\n",
        "plt.xticks([],[])\n",
        "plt.yticks([],[])\n",
        "plt.title(\"Image3\")\n",
        "plt.imshow(img3,cmap='gray')\n",
        "\n",
        "plt.subplot(1,5,4)\n",
        "plt.xticks([],[])\n",
        "plt.yticks([],[])\n",
        "plt.title(\"Image4\")\n",
        "plt.imshow(img4,cmap='gray')\n",
        "\n",
        "plt.subplot(1,5,5)\n",
        "plt.xticks([],[])\n",
        "plt.yticks([],[])\n",
        "plt.title(\"Image5\")\n",
        "plt.imshow(img5,cmap='gray')"
      ],
      "execution_count": null,
      "outputs": [
        {
          "output_type": "execute_result",
          "data": {
            "text/plain": [
              "<matplotlib.image.AxesImage at 0x7facebb5f390>"
            ]
          },
          "metadata": {},
          "execution_count": 3
        },
        {
          "output_type": "display_data",
          "data": {
            "image/png": "[encoded data removed]",
            "text/plain": [
              "<Figure size 432x288 with 5 Axes>"
            ]
          },
          "metadata": {}
        }
      ]
    },
    {
      "cell_type": "markdown",
      "metadata": {
        "id": "BUBEIgSUW_jZ"
      },
      "source": [
        "## **Connected Components and Bounding Boxes:**"
      ]
    },
    {
      "cell_type": "code",
      "metadata": {
        "id": "YnyfpHfHafcA"
      },
      "source": [
        "# function to get connected components\n",
        "def connectedCompCount(img):\n",
        "  comp = 1\n",
        "  pointer = {}\n",
        "  for i in range(img.shape[0]):\n",
        "    for j in range(img.shape[1]):\n",
        "      if img[i,j] == 1:\n",
        "        if img[i,j-1] == 0 and img[i-1,j] == 0:\n",
        "          # get new component\n",
        "          comp += 1\n",
        "          img[i,j] = comp\n",
        "          pointer[comp] = comp\n",
        "\n",
        "        elif img[i,j-1] * img[i-1,j] == 0:\n",
        "          img[i,j] = img[i,j-1] + img[i-1,j]\n",
        "\n",
        "        elif img[i,j-1] == img[i-1,j]:\n",
        "          img[i,j] = img[i,j-1]\n",
        "\n",
        "        elif img[i,j-1] != img[i-1,j]:\n",
        "           img[i,j] = min(img[i,j-1],img[i-1,j])\n",
        "           pointer[int(max(img[i,j-1],img[i-1,j]))] = int(min(img[i,j-1],img[i-1,j]))\n",
        "\n",
        "  return pointer"
      ],
      "execution_count": null,
      "outputs": []
    },
    {
      "cell_type": "code",
      "metadata": {
        "colab": {
          "base_uri": "https://localhost:8080/",
          "height": 303
        },
        "id": "peONzEv2OzVA",
        "outputId": "a8a53d73-1d00-4e89-a9f4-e72feb870f26"
      },
      "source": [
        "# for image 1\n",
        "img = copy.deepcopy(img1)\n",
        "img0 = copy.deepcopy(img1)\n",
        "pointer = connectedCompCount(img)\n",
        "\n",
        "for k in sorted(pointer.keys(), reverse=True):\n",
        "  img[img == k] = pointer[k]\n",
        "\n",
        "uqiue_comps = np. delete(np.unique(img), obj=0) \n",
        "print('Connected_components:',len(uqiue_comps))\n",
        "\n",
        "for comp_number in uqiue_comps:\n",
        "  x, y = np.where(img==comp_number)\n",
        "  min_x = np.min(x)\n",
        "  max_x = np.max(x)\n",
        "  min_y = np.min(y)\n",
        "  max_y = np.max(y)\n",
        "  img0[min_x, min_y:max_y] = 1\n",
        "  img0[max_x, min_y:max_y] = 1\n",
        "  img0[min_x:max_x, min_y] = 1\n",
        "  img0[min_x:max_x, max_y] = 1\n",
        "\n",
        "\n",
        "plt.imshow(img0,cmap = 'gray')"
      ],
      "execution_count": null,
      "outputs": [
        {
          "output_type": "stream",
          "name": "stdout",
          "text": [
            "Connected_components: 1\n"
          ]
        },
        {
          "output_type": "execute_result",
          "data": {
            "text/plain": [
              "<matplotlib.image.AxesImage at 0x7faceb635690>"
            ]
          },
          "metadata": {},
          "execution_count": 5
        },
        {
          "output_type": "display_data",
          "data": {
            "image/png": "[encoded data removed]",
            "text/plain": [
              "<Figure size 432x288 with 1 Axes>"
            ]
          },
          "metadata": {
            "needs_background": "light"
          }
        }
      ]
    },
    {
      "cell_type": "code",
      "metadata": {
        "colab": {
          "base_uri": "https://localhost:8080/",
          "height": 303
        },
        "id": "SxAKalZIPA_h",
        "outputId": "645163f4-7845-4912-df1b-e250ec86d916"
      },
      "source": [
        "# for image 2\n",
        "img = copy.deepcopy(img2)\n",
        "img0 = copy.deepcopy(img2)\n",
        "pointer = connectedCompCount(img)\n",
        "\n",
        "for k in sorted(pointer.keys(), reverse=True):\n",
        "  img[img == k] = pointer[k]\n",
        "\n",
        "uqiue_comps = np. delete(np.unique(img), obj=0) \n",
        "print('Connected_components:',len(uqiue_comps))\n",
        "\n",
        "for comp_number in uqiue_comps:\n",
        "  x, y = np.where(img==comp_number)\n",
        "  min_x = np.min(x)\n",
        "  max_x = np.max(x)\n",
        "  min_y = np.min(y)\n",
        "  max_y = np.max(y)\n",
        "  img0[min_x, min_y:max_y] = 1\n",
        "  img0[max_x, min_y:max_y] = 1\n",
        "  img0[min_x:max_x, min_y] = 1\n",
        "  img0[min_x:max_x, max_y] = 1\n",
        "\n",
        "\n",
        "plt.imshow(img0,cmap = 'gray')"
      ],
      "execution_count": null,
      "outputs": [
        {
          "output_type": "stream",
          "name": "stdout",
          "text": [
            "Connected_components: 1\n"
          ]
        },
        {
          "output_type": "execute_result",
          "data": {
            "text/plain": [
              "<matplotlib.image.AxesImage at 0x7faceb5ae390>"
            ]
          },
          "metadata": {},
          "execution_count": 6
        },
        {
          "output_type": "display_data",
          "data": {
            "image/png": "[encoded data removed]",
            "text/plain": [
              "<Figure size 432x288 with 1 Axes>"
            ]
          },
          "metadata": {
            "needs_background": "light"
          }
        }
      ]
    },
    {
      "cell_type": "code",
      "metadata": {
        "colab": {
          "base_uri": "https://localhost:8080/",
          "height": 303
        },
        "id": "BRi2LzGwPLgG",
        "outputId": "799bf8da-53d8-452c-8b96-c9ef3b329a6a"
      },
      "source": [
        "# for image 3\n",
        "img = copy.deepcopy(img3)\n",
        "img0 = copy.deepcopy(img3)\n",
        "pointer = connectedCompCount(img)\n",
        "\n",
        "for k in sorted(pointer.keys(), reverse=True):\n",
        "  img[img == k] = pointer[k]\n",
        "\n",
        "uqiue_comps = np. delete(np.unique(img), obj=0) \n",
        "print('Connected_components:',len(uqiue_comps))\n",
        "\n",
        "for comp_number in uqiue_comps:\n",
        "  x, y = np.where(img==comp_number)\n",
        "  min_x = np.min(x)\n",
        "  max_x = np.max(x)\n",
        "  min_y = np.min(y)\n",
        "  max_y = np.max(y)\n",
        "  img0[min_x, min_y:max_y] = 1\n",
        "  img0[max_x, min_y:max_y] = 1\n",
        "  img0[min_x:max_x, min_y] = 1\n",
        "  img0[min_x:max_x, max_y] = 1\n",
        "\n",
        "\n",
        "plt.imshow(img0,cmap = 'gray')"
      ],
      "execution_count": null,
      "outputs": [
        {
          "output_type": "stream",
          "name": "stdout",
          "text": [
            "Connected_components: 2\n"
          ]
        },
        {
          "output_type": "execute_result",
          "data": {
            "text/plain": [
              "<matplotlib.image.AxesImage at 0x7faceb58fed0>"
            ]
          },
          "metadata": {},
          "execution_count": 7
        },
        {
          "output_type": "display_data",
          "data": {
            "image/png": "[encoded data removed]",
            "text/plain": [
              "<Figure size 432x288 with 1 Axes>"
            ]
          },
          "metadata": {
            "needs_background": "light"
          }
        }
      ]
    },
    {
      "cell_type": "code",
      "metadata": {
        "colab": {
          "base_uri": "https://localhost:8080/",
          "height": 303
        },
        "id": "l838VsSqPaCz",
        "outputId": "25f4527d-0f74-4277-c983-dff7dd8f398b"
      },
      "source": [
        "# for image 4\n",
        "img = copy.deepcopy(img4)\n",
        "img0 = copy.deepcopy(img4)\n",
        "pointer = connectedCompCount(img)\n",
        "\n",
        "for k in sorted(pointer.keys(), reverse=True):\n",
        "  img[img == k] = pointer[k]\n",
        "\n",
        "uqiue_comps = np. delete(np.unique(img), obj=0) \n",
        "print('Connected_components:',len(uqiue_comps))\n",
        "\n",
        "for comp_number in uqiue_comps:\n",
        "  x, y = np.where(img==comp_number)\n",
        "  min_x = np.min(x)\n",
        "  max_x = np.max(x)\n",
        "  min_y = np.min(y)\n",
        "  max_y = np.max(y)\n",
        "  img0[min_x, min_y:max_y] = 1\n",
        "  img0[max_x, min_y:max_y] = 1\n",
        "  img0[min_x:max_x, min_y] = 1\n",
        "  img0[min_x:max_x, max_y] = 1\n",
        "\n",
        "\n",
        "plt.imshow(img0,cmap = 'gray')"
      ],
      "execution_count": null,
      "outputs": [
        {
          "output_type": "stream",
          "name": "stdout",
          "text": [
            "Connected_components: 2\n"
          ]
        },
        {
          "output_type": "execute_result",
          "data": {
            "text/plain": [
              "<matplotlib.image.AxesImage at 0x7faceb502590>"
            ]
          },
          "metadata": {},
          "execution_count": 8
        },
        {
          "output_type": "display_data",
          "data": {
            "image/png": "[encoded data removed]",
            "text/plain": [
              "<Figure size 432x288 with 1 Axes>"
            ]
          },
          "metadata": {
            "needs_background": "light"
          }
        }
      ]
    },
    {
      "cell_type": "code",
      "metadata": {
        "colab": {
          "base_uri": "https://localhost:8080/",
          "height": 303
        },
        "id": "RRNsl6cD-ydc",
        "outputId": "9f3942e8-00ce-46dc-f894-79f3179325ab"
      },
      "source": [
        "# for image 5\n",
        "img = copy.deepcopy(img5)\n",
        "img0 = copy.deepcopy(img5)\n",
        "pointer = connectedCompCount(img)\n",
        "\n",
        "for k in sorted(pointer.keys(), reverse=True):\n",
        "  img[img == k] = pointer[k]\n",
        "\n",
        "uqiue_comps = np. delete(np.unique(img), obj=0) \n",
        "print('Connected_components:',len(uqiue_comps))\n",
        "\n",
        "for comp_number in uqiue_comps:\n",
        "  x, y = np.where(img==comp_number)\n",
        "  min_x = np.min(x)\n",
        "  max_x = np.max(x)\n",
        "  min_y = np.min(y)\n",
        "  max_y = np.max(y)\n",
        "  img0[min_x, min_y:max_y] = 1\n",
        "  img0[max_x, min_y:max_y] = 1\n",
        "  img0[min_x:max_x, min_y] = 1\n",
        "  img0[min_x:max_x, max_y] = 1\n",
        "\n",
        "plt.imshow(img0,cmap = 'gray')"
      ],
      "execution_count": null,
      "outputs": [
        {
          "output_type": "stream",
          "name": "stdout",
          "text": [
            "Connected_components: 4\n"
          ]
        },
        {
          "output_type": "execute_result",
          "data": {
            "text/plain": [
              "<matplotlib.image.AxesImage at 0x7faceb469c50>"
            ]
          },
          "metadata": {},
          "execution_count": 9
        },
        {
          "output_type": "display_data",
          "data": {
            "image/png": "[encoded data removed]",
            "text/plain": [
              "<Figure size 432x288 with 1 Axes>"
            ]
          },
          "metadata": {
            "needs_background": "light"
          }
        }
      ]
    },
    {
      "cell_type": "markdown",
      "metadata": {
        "id": "PAOTuTPfW3kW"
      },
      "source": [
        "## **Region Boundary:**"
      ]
    },
    {
      "cell_type": "code",
      "metadata": {
        "id": "RNhO7EX7NJrG"
      },
      "source": [
        "# get region boundary \n",
        "def rb(img):\n",
        "  val = []\n",
        "  new_img = np.zeros_like(img)\n",
        "  for i in range(img.shape[0]):\n",
        "    for j in range(img.shape[1]):\n",
        "      if img[i][j] ==1 and (img[i][j-1] == 0 or img[i-1][j] == 0 or img[i][j+1] == 0 or img[i+1][j] == 0):\n",
        "        val.extend([[i,j]])\n",
        "  print(\"Position of boundary pixels:\",val)\n",
        "  \n",
        "  for k in val:\n",
        "    new_img[k[0], k[1]] = 1\n",
        "  plt.imshow(new_img, cmap='gray')"
      ],
      "execution_count": null,
      "outputs": []
    },
    {
      "cell_type": "code",
      "metadata": {
        "colab": {
          "base_uri": "https://localhost:8080/",
          "height": 323
        },
        "id": "ztBI8kZ3SG9q",
        "outputId": "f58cb849-0750-40c4-aa75-6dddb9697043"
      },
      "source": [
        "print(\"Image 1:\")\n",
        "rb(img1)"
      ],
      "execution_count": null,
      "outputs": [
        {
          "output_type": "stream",
          "name": "stdout",
          "text": [
            "Image 1:\n",
            "Position of boundary pixels: [[63, 104], [63, 105], [63, 106], [63, 107], [63, 108], [63, 109], [63, 110], [64, 100], [64, 101], [64, 102], [64, 103], [64, 111], [64, 112], [64, 113], [64, 114], [65, 96], [65, 97], [65, 98], [65, 99], [65, 115], [65, 116], [65, 117], [65, 118], [66, 94], [66, 95], [66, 119], [66, 120], [67, 93], [67, 121], [68, 91], [68, 92], [68, 122], [68, 123], [69, 90], [69, 124], [70, 88], [70, 89], [70, 125], [71, 87], [71, 126], [72, 86], [72, 127], [73, 84], [73, 85], [73, 128], [74, 82], [74, 83], [74, 129], [75, 80], [75, 81], [75, 129], [76, 66], [76, 67], [76, 68], [76, 69], [76, 70], [76, 71], [76, 72], [76, 73], [76, 74], [76, 75], [76, 76], [76, 79], [76, 130], [76, 131], [76, 132], [76, 133], [76, 134], [76, 135], [77, 62], [77, 63], [77, 64], [77, 65], [77, 77], [77, 78], [77, 136], [77, 137], [77, 138], [77, 139], [78, 60], [78, 61], [78, 140], [78, 141], [79, 59], [79, 142], [80, 57], [80, 58], [80, 143], [80, 144], [81, 56], [81, 145], [82, 55], [82, 146], [83, 54], [83, 147], [84, 53], [84, 147], [85, 52], [85, 148], [85, 149], [85, 150], [85, 151], [85, 152], [86, 52], [86, 153], [86, 154], [86, 155], [86, 156], [87, 51], [87, 157], [87, 158], [88, 50], [88, 159], [89, 50], [89, 160], [89, 161], [90, 49], [90, 162], [91, 49], [91, 163], [92, 49], [92, 164], [93, 49], [93, 164], [94, 48], [94, 165], [95, 48], [95, 166], [96, 48], [96, 166], [97, 48], [97, 167], [98, 48], [98, 167], [99, 48], [99, 167], [100, 48], [100, 167], [101, 49], [101, 168], [102, 49], [102, 168], [103, 49], [103, 168], [104, 49], [104, 168], [105, 50], [105, 168], [106, 50], [106, 168], [107, 51], [107, 168], [108, 52], [108, 167], [109, 52], [109, 167], [110, 53], [110, 167], [111, 54], [111, 167], [112, 55], [112, 166], [113, 56], [113, 166], [114, 57], [114, 165], [115, 58], [115, 59], [115, 164], [116, 60], [116, 164], [117, 61], [117, 62], [117, 163], [118, 63], [118, 162], [119, 64], [119, 65], [119, 160], [119, 161], [120, 66], [120, 67], [120, 159], [121, 68], [121, 69], [121, 157], [121, 158], [122, 70], [122, 71], [122, 72], [122, 73], [122, 153], [122, 154], [122, 155], [122, 156], [123, 74], [123, 75], [123, 76], [123, 77], [123, 135], [123, 136], [123, 137], [123, 138], [123, 139], [123, 140], [123, 141], [123, 142], [123, 143], [123, 144], [123, 145], [123, 146], [123, 147], [123, 148], [123, 149], [123, 150], [123, 151], [123, 152], [124, 78], [124, 79], [124, 80], [124, 81], [124, 82], [124, 83], [124, 134], [125, 84], [125, 134], [126, 85], [126, 133], [127, 86], [127, 87], [127, 132], [128, 88], [128, 132], [129, 89], [129, 90], [129, 131], [130, 91], [130, 130], [131, 92], [131, 93], [131, 128], [131, 129], [132, 94], [132, 95], [132, 96], [132, 97], [132, 127], [133, 98], [133, 99], [133, 100], [133, 101], [133, 102], [133, 103], [133, 104], [133, 105], [133, 125], [133, 126], [134, 106], [134, 107], [134, 108], [134, 109], [134, 121], [134, 122], [134, 123], [134, 124], [135, 110], [135, 111], [135, 112], [135, 113], [135, 114], [135, 115], [135, 116], [135, 117], [135, 118], [135, 119], [135, 120]]\n"
          ]
        },
        {
          "output_type": "display_data",
          "data": {
            "image/png": "[encoded data removed]",
            "text/plain": [
              "<Figure size 432x288 with 1 Axes>"
            ]
          },
          "metadata": {
            "needs_background": "light"
          }
        }
      ]
    },
    {
      "cell_type": "code",
      "metadata": {
        "colab": {
          "base_uri": "https://localhost:8080/",
          "height": 323
        },
        "id": "K_kGSKUVWSPb",
        "outputId": "13c62886-afe5-4b80-a175-d74677a9e122"
      },
      "source": [
        "print(\"Image 2:\")\n",
        "rb(img2)"
      ],
      "execution_count": null,
      "outputs": [
        {
          "output_type": "stream",
          "name": "stdout",
          "text": [
            "Image 2:\n",
            "Position of boundary pixels: [[54, 89], [54, 90], [54, 91], [54, 92], [54, 93], [54, 94], [54, 95], [54, 96], [55, 86], [55, 87], [55, 88], [55, 97], [55, 98], [55, 99], [56, 83], [56, 84], [56, 85], [56, 100], [56, 101], [56, 102], [56, 103], [57, 82], [57, 104], [57, 105], [57, 106], [58, 81], [58, 107], [58, 108], [58, 109], [59, 80], [59, 110], [59, 111], [60, 79], [60, 112], [61, 78], [61, 113], [61, 114], [62, 77], [62, 115], [62, 116], [62, 117], [63, 77], [63, 118], [64, 74], [64, 75], [64, 76], [64, 119], [64, 120], [65, 71], [65, 72], [65, 73], [65, 121], [66, 68], [66, 69], [66, 70], [66, 122], [67, 67], [67, 123], [67, 124], [67, 125], [67, 126], [67, 127], [67, 128], [68, 66], [68, 129], [68, 130], [68, 131], [69, 65], [69, 132], [69, 133], [69, 134], [70, 64], [70, 135], [71, 63], [71, 136], [72, 62], [72, 137], [73, 61], [73, 138], [74, 61], [74, 139], [75, 61], [75, 140], [76, 60], [76, 140], [77, 60], [77, 140], [78, 60], [78, 141], [79, 59], [79, 141], [80, 59], [80, 141], [81, 59], [81, 142], [82, 59], [82, 142], [83, 59], [83, 142], [84, 60], [84, 142], [85, 60], [85, 142], [86, 60], [86, 141], [87, 60], [87, 141], [88, 60], [88, 141], [89, 60], [89, 140], [90, 60], [90, 140], [91, 60], [91, 140], [92, 60], [92, 139], [93, 60], [93, 138], [94, 60], [94, 137], [95, 60], [95, 138], [96, 60], [96, 139], [97, 60], [97, 140], [98, 60], [98, 141], [99, 60], [99, 142], [100, 60], [100, 142], [101, 60], [101, 142], [102, 60], [102, 143], [103, 60], [103, 143], [104, 60], [104, 143], [105, 60], [105, 144], [106, 60], [106, 144], [107, 61], [107, 144], [108, 61], [108, 144], [109, 61], [109, 144], [110, 61], [110, 143], [111, 61], [111, 143], [112, 61], [112, 143], [113, 61], [113, 142], [114, 61], [114, 142], [115, 61], [115, 142], [116, 61], [116, 141], [117, 62], [117, 140], [118, 62], [118, 139], [119, 62], [119, 138], [120, 63], [120, 137], [121, 63], [121, 134], [121, 135], [121, 136], [122, 63], [122, 131], [122, 132], [122, 133], [123, 64], [123, 125], [123, 126], [123, 127], [123, 128], [123, 129], [123, 130], [124, 65], [124, 122], [124, 123], [124, 124], [125, 66], [125, 119], [125, 120], [125, 121], [126, 67], [126, 116], [126, 117], [126, 118], [127, 68], [127, 115], [128, 69], [128, 70], [128, 71], [128, 114], [129, 72], [129, 73], [129, 114], [130, 74], [130, 114], [131, 74], [131, 113], [132, 74], [132, 112], [133, 74], [133, 112], [134, 74], [134, 112], [135, 74], [135, 111], [136, 74], [136, 111], [137, 74], [137, 111], [138, 74], [138, 110], [139, 74], [139, 110], [140, 74], [140, 110], [141, 75], [141, 109], [142, 75], [142, 109], [143, 75], [143, 109], [144, 76], [144, 108], [145, 76], [145, 107], [146, 76], [146, 107], [147, 77], [147, 106], [148, 78], [148, 105], [149, 79], [149, 104], [150, 80], [150, 103], [151, 81], [151, 102], [152, 82], [152, 83], [152, 84], [152, 99], [152, 100], [152, 101], [153, 85], [153, 86], [153, 87], [153, 96], [153, 97], [153, 98], [154, 88], [154, 89], [154, 90], [154, 91], [154, 92], [154, 93], [154, 94], [154, 95]]\n"
          ]
        },
        {
          "output_type": "display_data",
          "data": {
            "image/png": "[encoded data removed]",
            "text/plain": [
              "<Figure size 432x288 with 1 Axes>"
            ]
          },
          "metadata": {
            "needs_background": "light"
          }
        }
      ]
    },
    {
      "cell_type": "code",
      "metadata": {
        "colab": {
          "base_uri": "https://localhost:8080/",
          "height": 323
        },
        "id": "mEJkPAqrWoMr",
        "outputId": "78c0c8ad-dfbf-405f-de1f-7a0158c52fb4"
      },
      "source": [
        "print(\"Image 3:\")\n",
        "rb(img3)"
      ],
      "execution_count": null,
      "outputs": [
        {
          "output_type": "stream",
          "name": "stdout",
          "text": [
            "Image 3:\n",
            "Position of boundary pixels: [[50, 99], [50, 100], [50, 101], [50, 102], [50, 103], [50, 104], [50, 105], [50, 106], [50, 107], [51, 68], [51, 69], [51, 70], [51, 71], [51, 72], [51, 73], [51, 74], [51, 75], [51, 76], [51, 97], [51, 98], [51, 108], [51, 109], [52, 66], [52, 67], [52, 77], [52, 78], [52, 95], [52, 96], [52, 110], [52, 111], [53, 64], [53, 65], [53, 79], [53, 80], [53, 94], [53, 112], [53, 113], [54, 63], [54, 81], [54, 93], [54, 114], [55, 61], [55, 62], [55, 82], [55, 92], [55, 115], [56, 60], [56, 83], [56, 91], [56, 116], [57, 59], [57, 84], [57, 90], [57, 117], [58, 58], [58, 85], [58, 89], [58, 117], [59, 57], [59, 86], [59, 87], [59, 88], [59, 118], [59, 136], [59, 137], [59, 138], [59, 139], [59, 140], [59, 141], [59, 142], [59, 143], [59, 144], [60, 56], [60, 119], [60, 133], [60, 134], [60, 135], [60, 145], [60, 146], [61, 55], [61, 120], [61, 130], [61, 131], [61, 132], [61, 147], [61, 148], [62, 54], [62, 121], [62, 127], [62, 128], [62, 129], [62, 149], [62, 150], [63, 53], [63, 121], [63, 125], [63, 126], [63, 151], [64, 53], [64, 122], [64, 123], [64, 124], [64, 152], [65, 52], [65, 153], [66, 52], [66, 154], [67, 51], [67, 154], [68, 51], [68, 155], [69, 51], [69, 155], [70, 51], [70, 156], [71, 51], [71, 156], [72, 51], [72, 156], [73, 51], [73, 156], [74, 51], [74, 156], [75, 51], [75, 156], [76, 51], [76, 156], [77, 51], [77, 156], [78, 52], [78, 79], [78, 80], [78, 81], [78, 82], [78, 83], [78, 84], [78, 85], [78, 86], [78, 87], [78, 88], [78, 89], [78, 90], [78, 91], [78, 92], [78, 93], [78, 94], [78, 95], [78, 96], [78, 97], [78, 98], [78, 99], [78, 100], [78, 101], [78, 102], [78, 103], [78, 104], [78, 105], [78, 106], [78, 107], [78, 108], [78, 109], [78, 110], [78, 111], [78, 112], [78, 113], [78, 114], [78, 115], [78, 116], [78, 117], [78, 118], [78, 119], [78, 120], [78, 121], [78, 122], [78, 123], [78, 124], [78, 125], [78, 126], [78, 127], [78, 128], [78, 129], [78, 130], [78, 131], [78, 132], [78, 133], [78, 134], [78, 135], [78, 136], [78, 137], [78, 138], [78, 139], [78, 156], [79, 52], [79, 78], [79, 140], [79, 156], [80, 53], [80, 78], [80, 140], [80, 156], [81, 53], [81, 78], [81, 140], [81, 156], [82, 54], [82, 78], [82, 140], [82, 155], [83, 55], [83, 78], [83, 140], [83, 155], [84, 56], [84, 78], [84, 140], [84, 154], [85, 57], [85, 78], [85, 140], [85, 154], [86, 58], [86, 78], [86, 140], [86, 153], [87, 57], [87, 78], [87, 140], [87, 153], [88, 56], [88, 78], [88, 140], [88, 152], [89, 55], [89, 78], [89, 140], [89, 152], [90, 54], [90, 78], [90, 140], [90, 151], [91, 53], [91, 78], [91, 140], [91, 151], [92, 52], [92, 78], [92, 140], [92, 151], [93, 51], [93, 78], [93, 140], [93, 151], [94, 50], [94, 78], [94, 140], [94, 151], [95, 50], [95, 78], [95, 140], [95, 151], [96, 44], [96, 45], [96, 46], [96, 47], [96, 48], [96, 49], [96, 78], [96, 140], [96, 151], [97, 42], [97, 43], [97, 78], [97, 140], [97, 151], [98, 40], [98, 41], [98, 78], [98, 140], [98, 151], [99, 39], [99, 78], [99, 140], [99, 151], [100, 38], [100, 78], [100, 140], [100, 151], [101, 37], [101, 78], [101, 140], [101, 151], [102, 36], [102, 78], [102, 140], [102, 151], [103, 36], [103, 78], [103, 140], [103, 151], [104, 35], [104, 78], [104, 140], [104, 151], [105, 35], [105, 78], [105, 140], [105, 151], [106, 34], [106, 78], [106, 140], [106, 151], [107, 34], [107, 78], [107, 140], [107, 151], [108, 34], [108, 78], [108, 140], [108, 151], [109, 34], [109, 78], [109, 140], [109, 151], [110, 34], [110, 78], [110, 140], [110, 151], [111, 34], [111, 78], [111, 140], [111, 151], [112, 34], [112, 78], [112, 140], [112, 151], [113, 34], [113, 78], [113, 140], [113, 151], [114, 34], [114, 78], [114, 140], [114, 150], [115, 34], [115, 78], [115, 140], [115, 150], [116, 34], [116, 78], [116, 140], [116, 149], [117, 35], [117, 78], [117, 140], [117, 149], [118, 35], [118, 78], [118, 140], [118, 148], [119, 36], [119, 78], [119, 140], [119, 147], [120, 36], [120, 78], [120, 140], [120, 146], [121, 36], [121, 78], [121, 140], [121, 145], [122, 37], [122, 78], [122, 140], [122, 144], [123, 37], [123, 78], [123, 140], [123, 142], [123, 143], [124, 38], [124, 78], [124, 140], [124, 141], [125, 38], [125, 78], [126, 39], [126, 78], [127, 40], [127, 78], [128, 40], [128, 78], [129, 41], [129, 78], [130, 42], [130, 78], [131, 43], [131, 78], [132, 44], [132, 45], [132, 78], [133, 46], [133, 75], [133, 76], [133, 77], [133, 78], [134, 47], [134, 73], [134, 74], [135, 48], [135, 72], [136, 49], [136, 71], [137, 50], [137, 70], [138, 51], [138, 69], [139, 52], [139, 53], [139, 67], [139, 68], [140, 54], [140, 55], [140, 65], [140, 66], [140, 93], [140, 94], [140, 95], [140, 96], [140, 97], [140, 98], [140, 99], [140, 100], [140, 101], [140, 102], [140, 103], [140, 104], [140, 105], [140, 106], [140, 107], [140, 108], [140, 109], [140, 110], [140, 111], [140, 112], [140, 113], [140, 114], [140, 115], [140, 116], [140, 117], [140, 118], [140, 119], [140, 120], [140, 121], [140, 122], [140, 123], [140, 124], [140, 125], [141, 56], [141, 57], [141, 58], [141, 59], [141, 60], [141, 61], [141, 62], [141, 63], [141, 64], [141, 94], [141, 125], [142, 94], [142, 125], [143, 95], [143, 124], [144, 95], [144, 124], [145, 96], [145, 124], [146, 97], [146, 123], [147, 97], [147, 123], [148, 98], [148, 122], [149, 98], [149, 122], [150, 99], [150, 121], [151, 100], [151, 120], [152, 101], [152, 119], [153, 102], [153, 103], [153, 117], [153, 118], [154, 104], [154, 105], [154, 115], [154, 116], [155, 106], [155, 107], [155, 108], [155, 109], [155, 110], [155, 111], [155, 112], [155, 113], [155, 114]]\n"
          ]
        },
        {
          "output_type": "display_data",
          "data": {
            "image/png": "[encoded data removed]",
            "text/plain": [
              "<Figure size 432x288 with 1 Axes>"
            ]
          },
          "metadata": {
            "needs_background": "light"
          }
        }
      ]
    },
    {
      "cell_type": "code",
      "metadata": {
        "colab": {
          "base_uri": "https://localhost:8080/",
          "height": 323
        },
        "id": "QzNkhHEnWreK",
        "outputId": "b3ee8cdc-6c49-4951-b735-7011ba69ae00"
      },
      "source": [
        "print(\"Image 4:\")\n",
        "rb(img4)"
      ],
      "execution_count": null,
      "outputs": [
        {
          "output_type": "stream",
          "name": "stdout",
          "text": [
            "Image 4:\n",
            "Position of boundary pixels: [[51, 68], [51, 69], [51, 70], [51, 71], [51, 72], [51, 73], [51, 74], [51, 75], [51, 76], [52, 66], [52, 67], [52, 77], [52, 78], [53, 64], [53, 65], [53, 78], [54, 63], [54, 78], [55, 61], [55, 62], [55, 78], [56, 60], [56, 78], [57, 59], [57, 78], [58, 58], [58, 78], [59, 57], [59, 78], [59, 140], [59, 141], [59, 142], [59, 143], [59, 144], [60, 56], [60, 78], [60, 140], [60, 145], [60, 146], [61, 55], [61, 78], [61, 140], [61, 147], [61, 148], [62, 54], [62, 78], [62, 140], [62, 149], [62, 150], [63, 53], [63, 78], [63, 140], [63, 151], [64, 53], [64, 78], [64, 140], [64, 152], [65, 52], [65, 78], [65, 140], [65, 153], [66, 52], [66, 78], [66, 140], [66, 154], [67, 51], [67, 78], [67, 140], [67, 154], [68, 51], [68, 78], [68, 140], [68, 155], [69, 51], [69, 78], [69, 140], [69, 155], [70, 51], [70, 78], [70, 140], [70, 156], [71, 51], [71, 78], [71, 140], [71, 156], [72, 51], [72, 78], [72, 140], [72, 156], [73, 51], [73, 78], [73, 140], [73, 156], [74, 51], [74, 78], [74, 140], [74, 156], [75, 51], [75, 78], [75, 140], [75, 156], [76, 51], [76, 78], [76, 140], [76, 156], [77, 51], [77, 78], [77, 140], [77, 156], [78, 52], [78, 78], [78, 140], [78, 156], [79, 52], [79, 78], [79, 140], [79, 156], [80, 53], [80, 78], [80, 140], [80, 156], [81, 53], [81, 78], [81, 140], [81, 156], [82, 54], [82, 78], [82, 140], [82, 155], [83, 55], [83, 78], [83, 140], [83, 155], [84, 56], [84, 78], [84, 140], [84, 154], [85, 57], [85, 78], [85, 140], [85, 154], [86, 58], [86, 78], [86, 140], [86, 153], [87, 57], [87, 78], [87, 140], [87, 153], [88, 56], [88, 78], [88, 140], [88, 152], [89, 55], [89, 78], [89, 140], [89, 152], [90, 54], [90, 78], [90, 140], [90, 151], [91, 53], [91, 78], [91, 140], [91, 151], [92, 52], [92, 78], [92, 140], [92, 151], [93, 51], [93, 78], [93, 140], [93, 151], [94, 50], [94, 78], [94, 140], [94, 151], [95, 50], [95, 78], [95, 140], [95, 151], [96, 44], [96, 45], [96, 46], [96, 47], [96, 48], [96, 49], [96, 78], [96, 140], [96, 151], [97, 42], [97, 43], [97, 78], [97, 140], [97, 151], [98, 40], [98, 41], [98, 78], [98, 140], [98, 151], [99, 39], [99, 78], [99, 140], [99, 151], [100, 38], [100, 78], [100, 140], [100, 151], [101, 37], [101, 78], [101, 140], [101, 151], [102, 36], [102, 78], [102, 140], [102, 151], [103, 36], [103, 78], [103, 140], [103, 151], [104, 35], [104, 78], [104, 140], [104, 151], [105, 35], [105, 78], [105, 140], [105, 151], [106, 34], [106, 78], [106, 140], [106, 151], [107, 34], [107, 78], [107, 140], [107, 151], [108, 34], [108, 78], [108, 140], [108, 151], [109, 34], [109, 78], [109, 140], [109, 151], [110, 34], [110, 78], [110, 140], [110, 151], [111, 34], [111, 78], [111, 140], [111, 151], [112, 34], [112, 78], [112, 140], [112, 151], [113, 34], [113, 78], [113, 140], [113, 151], [114, 34], [114, 78], [114, 140], [114, 150], [115, 34], [115, 78], [115, 140], [115, 150], [116, 34], [116, 78], [116, 140], [116, 149], [117, 35], [117, 78], [117, 140], [117, 149], [118, 35], [118, 78], [118, 140], [118, 148], [119, 36], [119, 78], [119, 140], [119, 147], [120, 36], [120, 78], [120, 140], [120, 146], [121, 36], [121, 78], [121, 140], [121, 145], [122, 37], [122, 78], [122, 140], [122, 144], [123, 37], [123, 78], [123, 140], [123, 142], [123, 143], [124, 38], [124, 78], [124, 140], [124, 141], [125, 38], [125, 78], [126, 39], [126, 78], [127, 40], [127, 78], [128, 40], [128, 78], [129, 41], [129, 78], [130, 42], [130, 78], [131, 43], [131, 78], [132, 44], [132, 45], [132, 78], [133, 46], [133, 75], [133, 76], [133, 77], [133, 78], [134, 47], [134, 73], [134, 74], [135, 48], [135, 72], [136, 49], [136, 71], [137, 50], [137, 70], [138, 51], [138, 69], [139, 52], [139, 53], [139, 67], [139, 68], [140, 54], [140, 55], [140, 65], [140, 66], [141, 56], [141, 57], [141, 58], [141, 59], [141, 60], [141, 61], [141, 62], [141, 63], [141, 64]]\n"
          ]
        },
        {
          "output_type": "display_data",
          "data": {
            "image/png": "[encoded data removed]",
            "text/plain": [
              "<Figure size 432x288 with 1 Axes>"
            ]
          },
          "metadata": {
            "needs_background": "light"
          }
        }
      ]
    },
    {
      "cell_type": "code",
      "metadata": {
        "colab": {
          "base_uri": "https://localhost:8080/",
          "height": 323
        },
        "id": "LzCb2vw_Wuca",
        "outputId": "d09963e3-f224-4ef7-ba3a-f65c4cf91bef"
      },
      "source": [
        "print(\"Image 5:\")\n",
        "rb(img5)"
      ],
      "execution_count": null,
      "outputs": [
        {
          "output_type": "stream",
          "name": "stdout",
          "text": [
            "Image 5:\n",
            "Position of boundary pixels: [[50, 100], [50, 101], [50, 102], [50, 103], [50, 104], [50, 105], [50, 106], [50, 107], [51, 68], [51, 69], [51, 70], [51, 71], [51, 72], [51, 73], [51, 74], [51, 75], [51, 76], [51, 100], [51, 108], [51, 109], [52, 66], [52, 67], [52, 77], [52, 78], [52, 100], [52, 110], [52, 111], [53, 64], [53, 65], [53, 78], [53, 100], [53, 112], [53, 113], [54, 63], [54, 78], [54, 100], [54, 114], [55, 61], [55, 62], [55, 78], [55, 100], [55, 115], [56, 60], [56, 78], [56, 100], [56, 116], [57, 59], [57, 78], [57, 100], [57, 117], [58, 58], [58, 78], [58, 100], [58, 117], [59, 57], [59, 78], [59, 100], [59, 118], [59, 136], [59, 137], [59, 138], [59, 139], [59, 140], [59, 141], [59, 142], [59, 143], [59, 144], [60, 56], [60, 78], [60, 100], [60, 119], [60, 133], [60, 134], [60, 135], [60, 145], [60, 146], [61, 55], [61, 78], [61, 100], [61, 120], [61, 130], [61, 131], [61, 132], [61, 147], [61, 148], [62, 54], [62, 78], [62, 100], [62, 121], [62, 127], [62, 128], [62, 129], [62, 149], [62, 150], [63, 53], [63, 78], [63, 100], [63, 121], [63, 125], [63, 126], [63, 151], [64, 53], [64, 78], [64, 100], [64, 122], [64, 123], [64, 124], [64, 152], [65, 52], [65, 78], [65, 100], [65, 153], [66, 52], [66, 78], [66, 100], [66, 154], [67, 51], [67, 78], [67, 100], [67, 154], [68, 51], [68, 78], [68, 100], [68, 155], [69, 51], [69, 78], [69, 100], [69, 155], [70, 51], [70, 78], [70, 100], [70, 156], [71, 51], [71, 78], [71, 100], [71, 156], [72, 51], [72, 78], [72, 100], [72, 156], [73, 51], [73, 78], [73, 100], [73, 156], [74, 51], [74, 78], [74, 100], [74, 156], [75, 51], [75, 78], [75, 100], [75, 156], [76, 51], [76, 78], [76, 100], [76, 156], [77, 51], [77, 78], [77, 100], [77, 156], [78, 52], [78, 53], [78, 54], [78, 55], [78, 56], [78, 57], [78, 58], [78, 59], [78, 60], [78, 61], [78, 62], [78, 63], [78, 64], [78, 65], [78, 66], [78, 67], [78, 68], [78, 69], [78, 70], [78, 71], [78, 72], [78, 73], [78, 74], [78, 75], [78, 76], [78, 77], [78, 78], [78, 100], [78, 101], [78, 102], [78, 103], [78, 104], [78, 105], [78, 106], [78, 107], [78, 108], [78, 109], [78, 110], [78, 111], [78, 112], [78, 113], [78, 114], [78, 115], [78, 116], [78, 117], [78, 118], [78, 119], [78, 120], [78, 121], [78, 122], [78, 123], [78, 124], [78, 125], [78, 126], [78, 127], [78, 128], [78, 129], [78, 130], [78, 131], [78, 132], [78, 133], [78, 134], [78, 135], [78, 136], [78, 137], [78, 138], [78, 139], [78, 140], [78, 141], [78, 142], [78, 143], [78, 144], [78, 145], [78, 146], [78, 147], [78, 148], [78, 149], [78, 150], [78, 151], [78, 152], [78, 153], [78, 154], [78, 155], [78, 156], [100, 38], [100, 39], [100, 40], [100, 41], [100, 42], [100, 43], [100, 44], [100, 45], [100, 46], [100, 47], [100, 48], [100, 49], [100, 50], [100, 51], [100, 52], [100, 53], [100, 54], [100, 55], [100, 56], [100, 57], [100, 58], [100, 59], [100, 60], [100, 61], [100, 62], [100, 63], [100, 64], [100, 65], [100, 66], [100, 67], [100, 68], [100, 69], [100, 70], [100, 71], [100, 72], [100, 73], [100, 74], [100, 75], [100, 76], [100, 77], [100, 78], [100, 100], [100, 101], [100, 102], [100, 103], [100, 104], [100, 105], [100, 106], [100, 107], [100, 108], [100, 109], [100, 110], [100, 111], [100, 112], [100, 113], [100, 114], [100, 115], [100, 116], [100, 117], [100, 118], [100, 119], [100, 120], [100, 121], [100, 122], [100, 123], [100, 124], [100, 125], [100, 126], [100, 127], [100, 128], [100, 129], [100, 130], [100, 131], [100, 132], [100, 133], [100, 134], [100, 135], [100, 136], [100, 137], [100, 138], [100, 139], [100, 140], [100, 141], [100, 142], [100, 143], [100, 144], [100, 145], [100, 146], [100, 147], [100, 148], [100, 149], [100, 150], [100, 151], [101, 37], [101, 78], [101, 100], [101, 151], [102, 36], [102, 78], [102, 100], [102, 151], [103, 36], [103, 78], [103, 100], [103, 151], [104, 35], [104, 78], [104, 100], [104, 151], [105, 35], [105, 78], [105, 100], [105, 151], [106, 34], [106, 78], [106, 100], [106, 151], [107, 34], [107, 78], [107, 100], [107, 151], [108, 34], [108, 78], [108, 100], [108, 151], [109, 34], [109, 78], [109, 100], [109, 151], [110, 34], [110, 78], [110, 100], [110, 151], [111, 34], [111, 78], [111, 100], [111, 151], [112, 34], [112, 78], [112, 100], [112, 151], [113, 34], [113, 78], [113, 100], [113, 151], [114, 34], [114, 78], [114, 100], [114, 150], [115, 34], [115, 78], [115, 100], [115, 150], [116, 34], [116, 78], [116, 100], [116, 149], [117, 35], [117, 78], [117, 100], [117, 149], [118, 35], [118, 78], [118, 100], [118, 148], [119, 36], [119, 78], [119, 100], [119, 147], [120, 36], [120, 78], [120, 100], [120, 146], [121, 36], [121, 78], [121, 100], [121, 145], [122, 37], [122, 78], [122, 100], [122, 144], [123, 37], [123, 78], [123, 100], [123, 142], [123, 143], [124, 38], [124, 78], [124, 100], [124, 140], [124, 141], [125, 38], [125, 78], [125, 100], [125, 134], [125, 135], [125, 136], [125, 137], [125, 138], [125, 139], [126, 39], [126, 78], [126, 100], [126, 132], [126, 133], [127, 40], [127, 78], [127, 100], [127, 129], [127, 130], [127, 131], [128, 40], [128, 78], [128, 100], [128, 128], [129, 41], [129, 78], [129, 100], [129, 126], [129, 127], [130, 42], [130, 78], [130, 100], [130, 125], [131, 43], [131, 78], [131, 100], [131, 125], [132, 44], [132, 45], [132, 78], [132, 100], [132, 125], [133, 46], [133, 75], [133, 76], [133, 77], [133, 78], [133, 100], [133, 125], [134, 47], [134, 73], [134, 74], [134, 100], [134, 125], [135, 48], [135, 72], [135, 100], [135, 125], [136, 49], [136, 71], [136, 100], [136, 125], [137, 50], [137, 70], [137, 100], [137, 125], [138, 51], [138, 69], [138, 100], [138, 125], [139, 52], [139, 53], [139, 67], [139, 68], [139, 100], [139, 125], [140, 54], [140, 55], [140, 65], [140, 66], [140, 100], [140, 125], [141, 56], [141, 57], [141, 58], [141, 59], [141, 60], [141, 61], [141, 62], [141, 63], [141, 64], [141, 100], [141, 125], [142, 100], [142, 125], [143, 100], [143, 124], [144, 100], [144, 124], [145, 100], [145, 124], [146, 100], [146, 123], [147, 100], [147, 123], [148, 100], [148, 122], [149, 100], [149, 122], [150, 100], [150, 121], [151, 100], [151, 120], [152, 101], [152, 119], [153, 102], [153, 103], [153, 117], [153, 118], [154, 104], [154, 105], [154, 115], [154, 116], [155, 106], [155, 107], [155, 108], [155, 109], [155, 110], [155, 111], [155, 112], [155, 113], [155, 114]]\n"
          ]
        },
        {
          "output_type": "display_data",
          "data": {
            "image/png": "[encoded data removed]",
            "text/plain": [
              "<Figure size 432x288 with 1 Axes>"
            ]
          },
          "metadata": {
            "needs_background": "light"
          }
        }
      ]
    }
  ]
}